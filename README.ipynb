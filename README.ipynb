{
 "cells": [
  {
   "cell_type": "markdown",
   "id": "53f45c6b-f2df-4bbd-8ae1-19aa0249632f",
   "metadata": {},
   "source": [
    "# rust-lightbike- creating a 3D game with rust and bevy"
   ]
  },
  {
   "cell_type": "markdown",
   "id": "bd825bd0-7dd0-456c-8212-c3039e53cb15",
   "metadata": {},
   "source": [
    "My next 3D game with rust(https://www.rust-lang.org) and the bevy framework(https://bevyengine.org) using Rapier https://github.com/dimforge/bevy_rapier learning more about shaders.\n",
    "\n",
    "I am inspired by classic games like #Tron #LightCycle."
   ]
  },
  {
   "cell_type": "markdown",
   "id": "3452f3f3-6afa-4d53-b775-85fbb3c9c3af",
   "metadata": {},
   "source": [
    "## 1. Step _ simple bike and arena"
   ]
  },
  {
   "cell_type": "markdown",
   "id": "1dfbe234-2503-42e3-b8d2-4a5399f88bf8",
   "metadata": {},
   "source": [
    "<img src=\"img/step1.gif\" width=\"320\" align=\"left\"><br><br><br><br><br><br><br><br><br><br><br><br><br><br>"
   ]
  },
  {
   "cell_type": "code",
   "execution_count": null,
   "id": "0a1b4955-47e1-4b4c-86be-7c330993d499",
   "metadata": {},
   "outputs": [],
   "source": []
  }
 ],
 "metadata": {
  "kernelspec": {
   "display_name": "Rust",
   "language": "rust",
   "name": "rust"
  },
  "language_info": {
   "codemirror_mode": "rust",
   "file_extension": ".rs",
   "mimetype": "text/rust",
   "name": "Rust",
   "pygment_lexer": "rust",
   "version": ""
  }
 },
 "nbformat": 4,
 "nbformat_minor": 5
}
